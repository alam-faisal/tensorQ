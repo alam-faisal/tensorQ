{
 "cells": [
  {
   "cell_type": "code",
   "execution_count": 1,
   "id": "8c355cba",
   "metadata": {
    "ExecuteTime": {
     "end_time": "2024-12-20T02:06:29.538497Z",
     "start_time": "2024-12-20T02:06:29.206674Z"
    }
   },
   "outputs": [],
   "source": [
    "from tensorQ import *\n",
    "from tqdm.notebook import tqdm\n",
    "\n",
    "np.set_printoptions(precision=3, threshold=np.inf, suppress=True)"
   ]
  },
  {
   "cell_type": "markdown",
   "id": "c46f5743",
   "metadata": {
    "heading_collapsed": true
   },
   "source": [
    "# Testing tn.py"
   ]
  },
  {
   "cell_type": "markdown",
   "id": "ec9c8db2",
   "metadata": {
    "heading_collapsed": true,
    "hidden": true
   },
   "source": [
    "## Testing site_svd"
   ]
  },
  {
   "cell_type": "code",
   "execution_count": 3,
   "id": "e80a9e80",
   "metadata": {
    "ExecuteTime": {
     "end_time": "2024-11-09T20:44:27.405307Z",
     "start_time": "2024-11-09T20:44:27.388828Z"
    },
    "hidden": true
   },
   "outputs": [
    {
     "data": {
      "text/plain": [
       "((2, 2, 3), (2, 4))"
      ]
     },
     "execution_count": 3,
     "metadata": {},
     "output_type": "execute_result"
    }
   ],
   "source": [
    "mps_site = np.random.rand(2,4,3)\n",
    "l,r = site_svd(mps_site, which='left', max_dim=2)\n",
    "l.shape, r.shape "
   ]
  },
  {
   "cell_type": "code",
   "execution_count": 4,
   "id": "ed077297",
   "metadata": {
    "ExecuteTime": {
     "end_time": "2024-11-09T20:44:35.195456Z",
     "start_time": "2024-11-09T20:44:35.188672Z"
    },
    "hidden": true
   },
   "outputs": [],
   "source": [
    "site = np.random.rand(2,4,3,3)"
   ]
  },
  {
   "cell_type": "code",
   "execution_count": 5,
   "id": "beed3979",
   "metadata": {
    "ExecuteTime": {
     "end_time": "2024-11-09T20:44:46.973001Z",
     "start_time": "2024-11-09T20:44:46.961239Z"
    },
    "hidden": true
   },
   "outputs": [
    {
     "data": {
      "text/plain": [
       "((2, 4, 3, 3), (4, 4), True)"
      ]
     },
     "execution_count": 5,
     "metadata": {},
     "output_type": "execute_result"
    }
   ],
   "source": [
    "l, r = site_svd(site, which='left')\n",
    "recon = ncon((l,r), ([-1,1,-3,-4],[1,-2]))\n",
    "l.shape, r.shape, np.allclose(recon, site)"
   ]
  },
  {
   "cell_type": "code",
   "execution_count": 6,
   "id": "c294bcb0",
   "metadata": {
    "ExecuteTime": {
     "end_time": "2024-11-09T20:44:54.471220Z",
     "start_time": "2024-11-09T20:44:54.458769Z"
    },
    "hidden": true
   },
   "outputs": [
    {
     "data": {
      "text/plain": [
       "((2, 2), (2, 4, 3, 3), True)"
      ]
     },
     "execution_count": 6,
     "metadata": {},
     "output_type": "execute_result"
    }
   ],
   "source": [
    "l, r = site_svd(site, which='right')\n",
    "recon = ncon((l,r), ([-1,1],[1,-2,-3,-4]))\n",
    "l.shape, r.shape, np.allclose(recon, site)"
   ]
  },
  {
   "cell_type": "code",
   "execution_count": 7,
   "id": "1c1d3a1d",
   "metadata": {
    "ExecuteTime": {
     "end_time": "2024-11-09T20:45:01.301755Z",
     "start_time": "2024-11-09T20:45:01.289815Z"
    },
    "hidden": true
   },
   "outputs": [
    {
     "name": "stdout",
     "output_type": "stream",
     "text": [
      "(2, 2, 3, 3) (2, 4) 1.5514305500228742\n",
      "(2, 3, 3, 3) (3, 4) 0.9157992591600659\n",
      "(2, 4, 3, 3) (4, 4) 2.759530691757413e-15\n"
     ]
    }
   ],
   "source": [
    "for msvr in [0.3,0.2,0.1]:\n",
    "    l, r = site_svd(site, which='left', msvr=msvr)\n",
    "    recon = ncon((l,r), ([-1,1,-3,-4],[1,-2]))\n",
    "    print(l.shape, r.shape, np.linalg.norm(recon-site)) "
   ]
  },
  {
   "cell_type": "code",
   "execution_count": 8,
   "id": "33efca3b",
   "metadata": {
    "ExecuteTime": {
     "end_time": "2024-11-09T20:45:09.616433Z",
     "start_time": "2024-11-09T20:45:09.606951Z"
    },
    "hidden": true
   },
   "outputs": [
    {
     "name": "stdout",
     "output_type": "stream",
     "text": [
      "(2, 1) (1, 4, 3, 3) 2.0121839057979645\n",
      "(2, 2) (2, 4, 3, 3) 1.6016674704581467e-15\n"
     ]
    }
   ],
   "source": [
    "for max_dim in [1,2]:\n",
    "    l, r = site_svd(site, which='right', max_dim=max_dim)\n",
    "    recon = ncon((l,r), ([-1,1],[1,-2,-3,-4]))\n",
    "    print(l.shape, r.shape, np.linalg.norm(recon-site)) "
   ]
  },
  {
   "cell_type": "markdown",
   "id": "3c68cb60",
   "metadata": {
    "heading_collapsed": true,
    "hidden": true
   },
   "source": [
    "## Testing MPS overlap and compression "
   ]
  },
  {
   "cell_type": "code",
   "execution_count": 9,
   "id": "6313e03f",
   "metadata": {
    "ExecuteTime": {
     "end_time": "2024-11-09T20:45:55.159745Z",
     "start_time": "2024-11-09T20:45:55.148942Z"
    },
    "hidden": true
   },
   "outputs": [
    {
     "data": {
      "text/plain": [
       "[(1, 2, 2), (2, 4, 2), (4, 4, 2), (4, 2, 2), (2, 1, 2)]"
      ]
     },
     "execution_count": 9,
     "metadata": {},
     "output_type": "execute_result"
    }
   ],
   "source": [
    "mps = open_rmps(5,4)\n",
    "mps.get_skeleton()"
   ]
  },
  {
   "cell_type": "code",
   "execution_count": 10,
   "id": "0d3feddc",
   "metadata": {
    "ExecuteTime": {
     "end_time": "2024-11-09T20:46:02.284965Z",
     "start_time": "2024-11-09T20:46:02.259552Z"
    },
    "hidden": true
   },
   "outputs": [
    {
     "name": "stdout",
     "output_type": "stream",
     "text": [
      "0.9999999999999978\n",
      "0.963651488428629\n",
      "0.8314668031589978\n",
      "0.4035570620062541\n"
     ]
    }
   ],
   "source": [
    "for max_dim in [4,3,2,1]:\n",
    "    cmps = mps.compress(max_dim=max_dim)\n",
    "    print(np.abs(mps.overlap(cmps))**2)"
   ]
  },
  {
   "cell_type": "code",
   "execution_count": 11,
   "id": "c6a4b390",
   "metadata": {
    "ExecuteTime": {
     "end_time": "2024-11-09T20:46:10.083797Z",
     "start_time": "2024-11-09T20:46:10.059302Z"
    },
    "hidden": true
   },
   "outputs": [
    {
     "name": "stdout",
     "output_type": "stream",
     "text": [
      "0.4035570620062541\n",
      "0.9109904636136\n",
      "0.9998133460319828\n"
     ]
    }
   ],
   "source": [
    "for msvr in [0.5, 0.25, 0.1]:\n",
    "    cmps = mps.compress(msvr=msvr)\n",
    "    print(np.abs(mps.overlap(cmps))**2)"
   ]
  },
  {
   "cell_type": "markdown",
   "id": "6bdbfe89",
   "metadata": {
    "heading_collapsed": true,
    "hidden": true
   },
   "source": [
    "## Testing overlap, compose, add and compress for MPOs"
   ]
  },
  {
   "cell_type": "code",
   "execution_count": 2,
   "id": "d046f8e7",
   "metadata": {
    "ExecuteTime": {
     "end_time": "2024-11-09T20:47:54.547477Z",
     "start_time": "2024-11-09T20:47:54.536324Z"
    },
    "hidden": true
   },
   "outputs": [],
   "source": [
    "mpo1 = rand_mpo(10,30)\n",
    "mpo2 = rand_mpo(10,50)"
   ]
  },
  {
   "cell_type": "code",
   "execution_count": 3,
   "id": "c343bac8",
   "metadata": {
    "ExecuteTime": {
     "end_time": "2024-11-09T20:47:55.390970Z",
     "start_time": "2024-11-09T20:47:54.840897Z"
    },
    "hidden": true
   },
   "outputs": [
    {
     "data": {
      "text/plain": [
       "3.181542453404761e+25"
      ]
     },
     "execution_count": 3,
     "metadata": {},
     "output_type": "execute_result"
    }
   ],
   "source": [
    "(mpo1 @ mpo2).trace()"
   ]
  },
  {
   "cell_type": "code",
   "execution_count": 4,
   "id": "9d4604b4",
   "metadata": {
    "ExecuteTime": {
     "end_time": "2024-11-09T20:47:55.397574Z",
     "start_time": "2024-11-09T20:47:55.392545Z"
    },
    "hidden": true
   },
   "outputs": [
    {
     "data": {
      "text/plain": [
       "3.181542453404761e+25"
      ]
     },
     "execution_count": 4,
     "metadata": {},
     "output_type": "execute_result"
    }
   ],
   "source": [
    "mpo1.overlap(mpo2)"
   ]
  },
  {
   "cell_type": "code",
   "execution_count": 5,
   "id": "b1674bd5",
   "metadata": {
    "ExecuteTime": {
     "end_time": "2024-11-09T20:48:02.889157Z",
     "start_time": "2024-11-09T20:48:02.884072Z"
    },
    "hidden": true
   },
   "outputs": [],
   "source": [
    "# note that the two values are equal and that second takes significantly less time to execute"
   ]
  },
  {
   "cell_type": "code",
   "execution_count": 6,
   "id": "97e52e34",
   "metadata": {
    "ExecuteTime": {
     "end_time": "2024-11-09T20:48:03.058858Z",
     "start_time": "2024-11-09T20:48:03.043428Z"
    },
    "hidden": true
   },
   "outputs": [
    {
     "data": {
      "text/plain": [
       "True"
      ]
     },
     "execution_count": 6,
     "metadata": {},
     "output_type": "execute_result"
    }
   ],
   "source": [
    "mpo1 = rand_mpo(4,3)\n",
    "mpo2 = rand_mpo(4,5)\n",
    "mpo3 = mpo1 + mpo2\n",
    "np.allclose(mpo3.to_matrix(), (mpo1.to_matrix() + mpo2.to_matrix()))"
   ]
  },
  {
   "cell_type": "code",
   "execution_count": 7,
   "id": "d979d19d",
   "metadata": {
    "ExecuteTime": {
     "end_time": "2024-11-09T20:48:19.170357Z",
     "start_time": "2024-11-09T20:48:19.162718Z"
    },
    "hidden": true
   },
   "outputs": [
    {
     "data": {
      "text/plain": [
       "[(1, 4, 2, 2), (4, 4, 2, 2), (4, 4, 2, 2), (4, 4, 2, 2), (4, 1, 2, 2)]"
      ]
     },
     "execution_count": 7,
     "metadata": {},
     "output_type": "execute_result"
    }
   ],
   "source": [
    "# testing compression\n",
    "\n",
    "mpo = rand_mpo(5,4)\n",
    "mpo.get_skeleton()"
   ]
  },
  {
   "cell_type": "code",
   "execution_count": 8,
   "id": "dbb18e58",
   "metadata": {
    "ExecuteTime": {
     "end_time": "2024-11-09T20:48:27.732674Z",
     "start_time": "2024-11-09T20:48:27.709642Z"
    },
    "hidden": true
   },
   "outputs": [
    {
     "name": "stdout",
     "output_type": "stream",
     "text": [
      "7.54321440094149e-13\n",
      "3.053508276970695\n",
      "8.984096917471113\n",
      "23.61717792536556\n"
     ]
    }
   ],
   "source": [
    "for max_dim in [4,3,2,1]:\n",
    "    cmpo = mpo.compress(max_dim=max_dim)\n",
    "    print(np.linalg.norm(mpo.to_matrix() - cmpo.to_matrix()))"
   ]
  },
  {
   "cell_type": "code",
   "execution_count": 9,
   "id": "af208075",
   "metadata": {
    "ExecuteTime": {
     "end_time": "2024-11-09T20:48:35.977070Z",
     "start_time": "2024-11-09T20:48:35.953083Z"
    },
    "hidden": true
   },
   "outputs": [
    {
     "name": "stdout",
     "output_type": "stream",
     "text": [
      "2 23.61717792536556\n",
      "3 3.3016409047127557\n",
      "4 7.54321440094149e-13\n",
      "4 7.54321440094149e-13\n"
     ]
    }
   ],
   "source": [
    "for msvr in [1e-1, 1e-2, 1e-3, 1e-4]:\n",
    "    cmpo = mpo.compress(msvr=msvr)\n",
    "    print(cmpo.get_max_dim(), np.linalg.norm(mpo.to_matrix() - cmpo.to_matrix()))"
   ]
  },
  {
   "cell_type": "markdown",
   "id": "e39660da",
   "metadata": {
    "heading_collapsed": true,
    "hidden": true
   },
   "source": [
    "## Testing MPDO methods "
   ]
  },
  {
   "cell_type": "code",
   "execution_count": 6,
   "id": "247ded18",
   "metadata": {
    "ExecuteTime": {
     "end_time": "2024-11-03T21:42:05.306183Z",
     "start_time": "2024-11-03T21:42:05.292520Z"
    },
    "hidden": true
   },
   "outputs": [
    {
     "data": {
      "text/plain": [
       "array([[0.5, 0. , 0. , 0.5],\n",
       "       [0. , 0. , 0. , 0. ],\n",
       "       [0. , 0. , 0. , 0. ],\n",
       "       [0.5, 0. , 0. , 0.5]])"
      ]
     },
     "execution_count": 6,
     "metadata": {},
     "output_type": "execute_result"
    }
   ],
   "source": [
    "# testing partial trace\n",
    "circ = Circuit([H(0), CNOT([1,0], 2)])\n",
    "mpdo = nt_sim(circ)\n",
    "mpdo.to_matrix() "
   ]
  },
  {
   "cell_type": "code",
   "execution_count": 8,
   "id": "ee9e70dd",
   "metadata": {
    "ExecuteTime": {
     "end_time": "2024-11-03T21:42:21.686289Z",
     "start_time": "2024-11-03T21:42:21.676101Z"
    },
    "hidden": true
   },
   "outputs": [
    {
     "data": {
      "text/plain": [
       "array([[0.5, 0. ],\n",
       "       [0. , 0.5]])"
      ]
     },
     "execution_count": 8,
     "metadata": {},
     "output_type": "execute_result"
    }
   ],
   "source": [
    "mpdo.partial_trace([0]).to_matrix()"
   ]
  },
  {
   "cell_type": "markdown",
   "id": "b0e7a309",
   "metadata": {
    "heading_collapsed": true,
    "hidden": true
   },
   "source": [
    "## Testing MPO initializations and decompositions"
   ]
  },
  {
   "cell_type": "code",
   "execution_count": 5,
   "id": "ff628338",
   "metadata": {
    "ExecuteTime": {
     "end_time": "2024-09-16T20:14:33.501211Z",
     "start_time": "2024-09-16T20:14:33.488156Z"
    },
    "hidden": true
   },
   "outputs": [
    {
     "data": {
      "text/plain": [
       "(8, 8)"
      ]
     },
     "execution_count": 5,
     "metadata": {},
     "output_type": "execute_result"
    }
   ],
   "source": [
    "sites = [np.random.rand(1,4,2,2),np.random.rand(4,4,2,2),\n",
    "         np.random.rand(4,1,2,2)]\n",
    "mpo = MPO(sites)\n",
    "mpo.to_matrix().shape"
   ]
  },
  {
   "cell_type": "code",
   "execution_count": 6,
   "id": "147d8d5c",
   "metadata": {
    "ExecuteTime": {
     "end_time": "2024-09-16T20:14:39.946136Z",
     "start_time": "2024-09-16T20:14:39.935580Z"
    },
    "hidden": true
   },
   "outputs": [
    {
     "data": {
      "text/plain": [
       "array([[1., 0., 0., 0.],\n",
       "       [0., 0., 0., 0.],\n",
       "       [0., 0., 0., 0.],\n",
       "       [0., 0., 0., 0.]])"
      ]
     },
     "execution_count": 6,
     "metadata": {},
     "output_type": "execute_result"
    }
   ],
   "source": [
    "mpo = all_zero_mpdo(2)\n",
    "mpo.to_matrix()"
   ]
  },
  {
   "cell_type": "code",
   "execution_count": 7,
   "id": "eff3bef5",
   "metadata": {
    "ExecuteTime": {
     "end_time": "2024-09-16T20:14:45.681704Z",
     "start_time": "2024-09-16T20:14:45.673695Z"
    },
    "hidden": true
   },
   "outputs": [
    {
     "data": {
      "text/plain": [
       "((1, 4, 3, 3), (4, 4, 3, 3))"
      ]
     },
     "execution_count": 7,
     "metadata": {},
     "output_type": "execute_result"
    }
   ],
   "source": [
    "data = np.random.rand(3,3,3,3,1,4)\n",
    "a,b = decompose_site(data, min_sv_ratio=0.2)\n",
    "a.shape, b.shape"
   ]
  },
  {
   "cell_type": "code",
   "execution_count": 2,
   "id": "57199ce5",
   "metadata": {
    "ExecuteTime": {
     "end_time": "2024-10-21T22:21:51.675991Z",
     "start_time": "2024-10-21T22:21:51.657082Z"
    },
    "hidden": true
   },
   "outputs": [
    {
     "data": {
      "text/plain": [
       "True"
      ]
     },
     "execution_count": 2,
     "metadata": {},
     "output_type": "execute_result"
    }
   ],
   "source": [
    "# testing decompose_three_site() \n",
    "contracted = np.random.rand(2,2,2,2,2,2,5,5)\n",
    "top_site, middle_site, bottom_site = decompose_three_site(contracted) \n",
    "np.allclose(ncon((top_site, middle_site, bottom_site), ([-7,1,-1,-2],[1,2,-3,-4],[2,-8,-5,-6])), contracted) "
   ]
  },
  {
   "cell_type": "code",
   "execution_count": 2,
   "id": "79d23f6d",
   "metadata": {
    "ExecuteTime": {
     "end_time": "2024-12-20T02:06:33.001603Z",
     "start_time": "2024-12-20T02:06:32.958738Z"
    },
    "hidden": true
   },
   "outputs": [
    {
     "data": {
      "text/plain": [
       "True"
      ]
     },
     "execution_count": 2,
     "metadata": {},
     "output_type": "execute_result"
    }
   ],
   "source": [
    "# testing decompose_four_site() \n",
    "contracted = np.random.rand(3,3,3,3,3,3,3,3,2,2)\n",
    "first_site, second_site, third_site, fourth_site = decompose_four_site(contracted)\n",
    "np.allclose(ncon((first_site, second_site, third_site, fourth_site), ([-9,1,-1,-2], [1,2,-3,-4], [2,3,-5,-6],\n",
    "                                                          [3,-10,-7,-8])), contracted)"
   ]
  },
  {
   "cell_type": "markdown",
   "id": "ca44a299",
   "metadata": {
    "heading_collapsed": true,
    "hidden": true
   },
   "source": [
    "## Testing random MPS with various boundary conditions "
   ]
  },
  {
   "cell_type": "code",
   "execution_count": null,
   "id": "c6fac420",
   "metadata": {
    "hidden": true
   },
   "outputs": [],
   "source": []
  },
  {
   "cell_type": "code",
   "execution_count": null,
   "id": "733e77ab",
   "metadata": {
    "hidden": true
   },
   "outputs": [],
   "source": []
  },
  {
   "cell_type": "markdown",
   "id": "05159520",
   "metadata": {
    "heading_collapsed": true
   },
   "source": [
    "# Testing gates.py"
   ]
  },
  {
   "cell_type": "code",
   "execution_count": 2,
   "id": "36cd634f",
   "metadata": {
    "ExecuteTime": {
     "end_time": "2024-10-29T16:18:47.213725Z",
     "start_time": "2024-10-29T16:18:47.208415Z"
    },
    "hidden": true
   },
   "outputs": [],
   "source": [
    "raw_gate = np.array([[ 0.373-0.833j,  0.4  -0.08j ],\n",
    "       [-0.256+0.318j,  0.911+0.054j]])"
   ]
  },
  {
   "cell_type": "code",
   "execution_count": 3,
   "id": "7c12b5f5",
   "metadata": {
    "ExecuteTime": {
     "end_time": "2024-10-29T16:18:47.667860Z",
     "start_time": "2024-10-29T16:18:47.658064Z"
    },
    "hidden": true
   },
   "outputs": [],
   "source": [
    "gate_b = Gate(\"Single qubit\", 0, raw_gate.T)\n",
    "gate_c = U(0, raw_gate.T)"
   ]
  },
  {
   "cell_type": "code",
   "execution_count": 4,
   "id": "86b14acf",
   "metadata": {
    "ExecuteTime": {
     "end_time": "2024-10-29T16:18:48.146319Z",
     "start_time": "2024-10-29T16:18:48.131461Z"
    },
    "hidden": true
   },
   "outputs": [
    {
     "data": {
      "text/plain": [
       "array([[0.409-0.913j, 0.409-0.913j],\n",
       "       [0.409-0.913j, 0.409-0.913j]])"
      ]
     },
     "execution_count": 4,
     "metadata": {},
     "output_type": "execute_result"
    }
   ],
   "source": [
    "gate_b.matrix / gate_c.matrix"
   ]
  },
  {
   "cell_type": "code",
   "execution_count": 5,
   "id": "1e1dca46",
   "metadata": {
    "ExecuteTime": {
     "end_time": "2024-10-29T16:18:48.869334Z",
     "start_time": "2024-10-29T16:18:48.856716Z"
    },
    "hidden": true
   },
   "outputs": [
    {
     "data": {
      "text/plain": [
       "array([[0.833+0.j   , 0.216-0.303j],\n",
       "       [0.216+0.303j, 0.166+0.j   ]])"
      ]
     },
     "execution_count": 5,
     "metadata": {},
     "output_type": "execute_result"
    }
   ],
   "source": [
    "nt_sim(Circuit([gate_b])).to_matrix()"
   ]
  },
  {
   "cell_type": "code",
   "execution_count": 6,
   "id": "f699bc60",
   "metadata": {
    "ExecuteTime": {
     "end_time": "2024-10-29T16:18:53.514056Z",
     "start_time": "2024-10-29T16:18:53.503415Z"
    },
    "hidden": true
   },
   "outputs": [
    {
     "data": {
      "text/plain": [
       "array([[0.833+0.j   , 0.216-0.304j],\n",
       "       [0.216+0.304j, 0.167+0.j   ]])"
      ]
     },
     "execution_count": 6,
     "metadata": {},
     "output_type": "execute_result"
    }
   ],
   "source": [
    "nt_sim(Circuit([gate_c])).to_matrix()"
   ]
  },
  {
   "cell_type": "code",
   "execution_count": 7,
   "id": "a49535c6",
   "metadata": {
    "ExecuteTime": {
     "end_time": "2024-10-29T16:18:57.968156Z",
     "start_time": "2024-10-29T16:18:57.960033Z"
    },
    "hidden": true
   },
   "outputs": [],
   "source": [
    "gate_a = U01(0,0.5,0,1.5)\n",
    "gate_b = CNOT3([0,1], 3)\n",
    "gate_c = CNOT3([2,0], 3)\n",
    "gate_d = CNOT3([0,2], 3)\n",
    "gate_e = RZ01(0,0.5)"
   ]
  },
  {
   "cell_type": "code",
   "execution_count": 8,
   "id": "ecea15a1",
   "metadata": {
    "ExecuteTime": {
     "end_time": "2024-10-29T16:19:01.394332Z",
     "start_time": "2024-10-29T16:19:01.383156Z"
    },
    "hidden": true
   },
   "outputs": [
    {
     "name": "stdout",
     "output_type": "stream",
     "text": [
      "U01 gate on site(s) [0] with angle(s) (0.5, 0, 1.5)\n",
      "local dimension: 3\n",
      "superoperator shape: (3, 3, 3, 3)\n",
      "ZSX decomposition: ['RZ01 gate on site(s) [0] with angle(s) (1.5,)', 'SX01 gate on site(s) [0]', 'RZ01 gate on site(s) [0] with angle(s) (3.641592653589793,)', 'SX01 gate on site(s) [0]', 'RZ01 gate on site(s) [0] with angle(s) (3.141592653589793,)']\n",
      "\n",
      "matrix: [[ 0.969+0.j    -0.018-0.247j  0.   +0.j   ]\n",
      " [ 0.247+0.j     0.069+0.966j  0.   +0.j   ]\n",
      " [ 0.   +0.j     0.   +0.j     1.   +0.j   ]]\n"
     ]
    }
   ],
   "source": [
    "print(gate_a)\n",
    "print(f\"local dimension: {gate_a.get_local_dim()}\")\n",
    "print(f\"superoperator shape: {gate_a.to_superop().shape}\")\n",
    "dec = gate_a.decompose()\n",
    "print(f\"ZSX decomposition: {[str(g) for g in dec]}\")\n",
    "\n",
    "print(\"\")\n",
    "print(f\"matrix: {gate_a.matrix}\")"
   ]
  },
  {
   "cell_type": "code",
   "execution_count": 9,
   "id": "0dca847d",
   "metadata": {
    "ExecuteTime": {
     "end_time": "2024-10-29T16:19:03.172297Z",
     "start_time": "2024-10-29T16:19:03.163105Z"
    },
    "hidden": true
   },
   "outputs": [
    {
     "name": "stdout",
     "output_type": "stream",
     "text": [
      "top heavy CNOT3 gate on site(s) [0, 1]\n",
      "top heavy CNOT3 gate on site(s) [2, 0]\n",
      "bottom heavy CNOT3 gate on site(s) [2, 0]\n",
      "RZ01 gate on site(s) [0] with angle(s) (0.5,)\n",
      "\n",
      "matrix: [[1.   +0.j    0.   +0.j    0.   +0.j   ]\n",
      " [0.   +0.j    0.878+0.479j 0.   +0.j   ]\n",
      " [0.   +0.j    0.   +0.j    1.   +0.j   ]]\n"
     ]
    }
   ],
   "source": [
    "print(gate_b)\n",
    "print(gate_c)\n",
    "print(gate_d)\n",
    "print(gate_e)\n",
    "\n",
    "print(\"\")\n",
    "print(f\"matrix: {gate_e.matrix}\")"
   ]
  },
  {
   "cell_type": "code",
   "execution_count": 15,
   "id": "d25a759a",
   "metadata": {
    "ExecuteTime": {
     "end_time": "2024-10-29T16:23:18.809652Z",
     "start_time": "2024-10-29T16:23:18.786741Z"
    },
    "hidden": true
   },
   "outputs": [
    {
     "name": "stdout",
     "output_type": "stream",
     "text": [
      "1.0000 * (1.0000+0.0000j|00⟩)\n",
      "[(1, 1, 3, 3), (1, 1, 3, 3)]\n",
      "\n",
      "1.0000 * (1.0000+0.0000j|00⟩)\n",
      "[(1, 1, 3, 3), (1, 1, 3, 3)]\n",
      "\n",
      "1.0000 * (-0.7071+0.0000j|00⟩ + 0.0000+0.7071j|10⟩)\n",
      "[(1, 1, 3, 3), (1, 1, 3, 3)]\n",
      "\n",
      "1.0000 * (0.5000+0.0000j|00⟩ + 0.0000-0.5000j|01⟩ + 0.0000-0.5000j|10⟩ + -0.5000+0.0000j|11⟩)\n",
      "[(1, 1, 3, 3), (1, 1, 3, 3)]\n",
      "\n",
      "1.0000 * (0.5000+0.0000j|00⟩ + 0.0000-0.5000j|01⟩ + -0.2397+0.4388j|10⟩ + 0.4388+0.2397j|11⟩)\n",
      "[(1, 1, 3, 3), (1, 1, 3, 3)]\n",
      "\n",
      "1.0000 * (0.5000+0.0000j|00⟩ + -0.3221+0.3824j|01⟩ + -0.2397+0.4388j|10⟩ + -0.1812-0.4660j|11⟩)\n",
      "[(1, 1, 3, 3), (1, 1, 3, 3)]\n",
      "\n",
      "1.0000 * (0.6851+0.0000j|00⟩ + -0.4414+0.5240j|01⟩ + -0.1749-0.0000j|10⟩ + 0.1127-0.1338j|11⟩)\n",
      "[(1, 1, 3, 3), (1, 1, 3, 3)]\n",
      "\n",
      "1.0000 * (0.9102+0.0000j|00⟩ + -0.3322+0.0000j|01⟩ + -0.2324-0.0000j|10⟩ + 0.0848+0.0000j|11⟩)\n",
      "[(1, 1, 3, 3), (1, 1, 3, 3)]\n",
      "\n",
      "1.0000 * (0.9102+0.0000j|00⟩ + -0.3322-0.0000j|01⟩ + 0.2324-0.0000j|10⟩ + -0.0848+0.0000j|11⟩)\n",
      "[(1, 1, 3, 3), (1, 1, 3, 3)]\n",
      "\n",
      "1.0000 * (0.9102+0.0000j|00⟩ + 0.3174+0.0982j|01⟩ + 0.2324+0.0000j|10⟩ + 0.0810+0.0251j|11⟩)\n",
      "[(1, 1, 3, 3), (1, 1, 3, 3)]\n",
      "\n",
      "1.0000 * (0.9102+0.0000j|00⟩ + 0.3174+0.0982j|01⟩ + 0.1643+0.0000j|10⟩ + 0.0573+0.0177j|11⟩ + 0.0000-0.1643j|20⟩ + 0.0177-0.0573j|21⟩)\n",
      "[(1, 1, 3, 3), (1, 1, 3, 3)]\n",
      "\n",
      "1.0000 * (0.9102+0.0000j|00⟩ + 0.0982-0.3174j|02⟩ + 0.1643-0.0000j|10⟩ + 0.0177-0.0573j|12⟩ + -0.0000-0.1643j|20⟩ + -0.0573-0.0177j|22⟩)\n",
      "[(1, 1, 3, 3), (1, 1, 3, 3)]\n",
      "\n",
      "1.0000 * (0.9102+0.0000j|00⟩ + 0.1643-0.0000j|01⟩ + -0.0000-0.1643j|02⟩ + 0.0982-0.3174j|20⟩ + 0.0177-0.0573j|21⟩ + -0.0573-0.0177j|22⟩)\n",
      "[(1, 9, 3, 3), (9, 1, 3, 3)]\n",
      "\n"
     ]
    },
    {
     "data": {
      "text/plain": [
       "<tensorQ.tn.MPO at 0x7f7bb8ac7d90>"
      ]
     },
     "execution_count": 15,
     "metadata": {},
     "output_type": "execute_result"
    }
   ],
   "source": [
    "# testing SWAP3 gate\n",
    "\n",
    "gate_a = U01(0, 0.5,0,1.5)\n",
    "gate_b = SX12(0)\n",
    "gate_c = U01(1, 0.7,0.3,0.9)\n",
    "gate_d = X12(1)\n",
    "gate_e = SWAP3([0,1])\n",
    "\n",
    "nt_sim(Circuit([gate_a, gate_b, gate_c, gate_d, gate_e]), debug=True)"
   ]
  },
  {
   "cell_type": "code",
   "execution_count": null,
   "id": "08cf5865",
   "metadata": {
    "hidden": true
   },
   "outputs": [],
   "source": []
  },
  {
   "cell_type": "markdown",
   "id": "39be09b1",
   "metadata": {
    "hidden": true
   },
   "source": [
    "## CUGate "
   ]
  },
  {
   "cell_type": "code",
   "execution_count": 2,
   "id": "c8192e52",
   "metadata": {
    "ExecuteTime": {
     "end_time": "2024-10-21T20:32:38.343625Z",
     "start_time": "2024-10-21T20:32:38.323808Z"
    },
    "hidden": true
   },
   "outputs": [
    {
     "name": "stdout",
     "output_type": "stream",
     "text": [
      "bottom heavy CU2 gate on site(s) [0 2 1]\n"
     ]
    },
    {
     "data": {
      "text/plain": [
       "array([[0., 0., 0., 0., 0., 0., 0., 0.],\n",
       "       [0., 0., 0., 0., 0., 0., 0., 0.],\n",
       "       [0., 0., 0., 0., 0., 0., 0., 0.],\n",
       "       [0., 0., 0., 0., 0., 0., 0., 0.],\n",
       "       [0., 0., 0., 0., 0., 0., 0., 0.],\n",
       "       [0., 0., 0., 0., 0., 0., 0., 0.],\n",
       "       [0., 0., 0., 0., 0., 0., 0., 0.],\n",
       "       [0., 0., 0., 0., 0., 0., 0., 0.]])"
      ]
     },
     "execution_count": 2,
     "metadata": {},
     "output_type": "execute_result"
    }
   ],
   "source": [
    "ccx = CUGate([1,2,0], CNOT([2,1],4), 4)\n",
    "print(ccx)\n",
    "ccx.matrix - (np.kron(np.array([[1,0],[0,0]]), np.eye(4)) + np.kron(np.array([[0,0],[0,1]]), CNOT([2,1], 4).matrix))"
   ]
  },
  {
   "cell_type": "code",
   "execution_count": 3,
   "id": "8461d120",
   "metadata": {
    "ExecuteTime": {
     "end_time": "2024-10-21T20:32:41.696151Z",
     "start_time": "2024-10-21T20:32:41.682138Z"
    },
    "hidden": true
   },
   "outputs": [
    {
     "name": "stdout",
     "output_type": "stream",
     "text": [
      "top heavy CU2 gate on site(s) [0 1 2]\n"
     ]
    },
    {
     "data": {
      "text/plain": [
       "array([[0., 0., 0., 0., 0., 0., 0., 0.],\n",
       "       [0., 0., 0., 0., 0., 0., 0., 0.],\n",
       "       [0., 0., 0., 0., 0., 0., 0., 0.],\n",
       "       [0., 0., 0., 0., 0., 0., 0., 0.],\n",
       "       [0., 0., 0., 0., 0., 0., 0., 0.],\n",
       "       [0., 0., 0., 0., 0., 0., 0., 0.],\n",
       "       [0., 0., 0., 0., 0., 0., 0., 0.],\n",
       "       [0., 0., 0., 0., 0., 0., 0., 0.]])"
      ]
     },
     "execution_count": 3,
     "metadata": {},
     "output_type": "execute_result"
    }
   ],
   "source": [
    "ccx = CUGate([0,1,2], CNOT([1,0],4), 4)\n",
    "print(ccx)\n",
    "ccx.matrix - (np.kron(np.eye(4), np.array([[1,0],[0,0]])) + np.kron(CNOT([2,1], 4).matrix, np.array([[0,0],[0,1]])))"
   ]
  },
  {
   "cell_type": "code",
   "execution_count": null,
   "id": "aaa925c0",
   "metadata": {
    "hidden": true
   },
   "outputs": [],
   "source": []
  },
  {
   "cell_type": "code",
   "execution_count": null,
   "id": "5767350c",
   "metadata": {
    "hidden": true
   },
   "outputs": [],
   "source": []
  },
  {
   "cell_type": "markdown",
   "id": "bd95e864",
   "metadata": {
    "heading_collapsed": true
   },
   "source": [
    "# Testing noise.py"
   ]
  },
  {
   "cell_type": "code",
   "execution_count": 2,
   "id": "f4c6b066",
   "metadata": {
    "ExecuteTime": {
     "end_time": "2024-09-26T04:29:09.201096Z",
     "start_time": "2024-09-26T04:29:09.192750Z"
    },
    "hidden": true
   },
   "outputs": [],
   "source": [
    "t1 = 100\n",
    "t2 = 75\n",
    "one_time = 40/1000 \n",
    "two_time = 500/1000\n",
    "coupling = 0.5\n",
    "nm2 = QubitNoise(t1, t2, one_time, two_time, coupling)\n",
    "nm3 = QutritNoise(t1, t2, one_time, two_time, coupling)"
   ]
  },
  {
   "cell_type": "code",
   "execution_count": 3,
   "id": "be2d053b",
   "metadata": {
    "ExecuteTime": {
     "end_time": "2024-09-26T04:29:09.474604Z",
     "start_time": "2024-09-26T04:29:09.460660Z"
    },
    "hidden": true
   },
   "outputs": [
    {
     "data": {
      "text/plain": [
       "array([[1., 0.],\n",
       "       [0., 1.]])"
      ]
     },
     "execution_count": 3,
     "metadata": {},
     "output_type": "execute_result"
    }
   ],
   "source": [
    "k_list = nm2.get_kraus(one_time)\n",
    "sum(k.conj().T@k for k in k_list)"
   ]
  },
  {
   "cell_type": "code",
   "execution_count": 4,
   "id": "b87a1ff6",
   "metadata": {
    "ExecuteTime": {
     "end_time": "2024-09-26T04:29:09.961955Z",
     "start_time": "2024-09-26T04:29:09.953051Z"
    },
    "hidden": true
   },
   "outputs": [
    {
     "data": {
      "text/plain": [
       "array([[1., 0., 0.],\n",
       "       [0., 1., 0.],\n",
       "       [0., 0., 1.]])"
      ]
     },
     "execution_count": 4,
     "metadata": {},
     "output_type": "execute_result"
    }
   ],
   "source": [
    "k_list = nm3.get_kraus(one_time)\n",
    "sum(k.conj().T@k for k in k_list)"
   ]
  },
  {
   "cell_type": "code",
   "execution_count": null,
   "id": "bc8801c7",
   "metadata": {
    "hidden": true
   },
   "outputs": [],
   "source": []
  },
  {
   "cell_type": "markdown",
   "id": "553f86da",
   "metadata": {
    "heading_collapsed": true
   },
   "source": [
    "# Testing circuits.py"
   ]
  },
  {
   "cell_type": "markdown",
   "id": "81a15e43",
   "metadata": {
    "heading_collapsed": true,
    "hidden": true
   },
   "source": [
    "## Qubits "
   ]
  },
  {
   "cell_type": "code",
   "execution_count": 2,
   "id": "ee78e666",
   "metadata": {
    "ExecuteTime": {
     "end_time": "2024-09-26T04:11:21.455089Z",
     "start_time": "2024-09-26T04:11:21.447434Z"
    },
    "hidden": true
   },
   "outputs": [],
   "source": [
    "t1 = 100\n",
    "t2 = 75\n",
    "one_time = 40/1000 \n",
    "two_time = 500/1000\n",
    "coupling = 0.5\n",
    "nm = QubitNoise(t1, t2, one_time, two_time, coupling)"
   ]
  },
  {
   "cell_type": "code",
   "execution_count": 3,
   "id": "9c9c8c58",
   "metadata": {
    "ExecuteTime": {
     "end_time": "2024-09-26T04:12:26.677558Z",
     "start_time": "2024-09-26T04:12:26.663042Z"
    },
    "hidden": true
   },
   "outputs": [
    {
     "name": "stdout",
     "output_type": "stream",
     "text": [
      "U gate on site(s) [0] with angle(s) (1.34, -3.141592653589793, 0) \n",
      "bottom heavy CNOT2 gate on site(s) [0, 1] \n",
      "U gate on site(s) [1] with angle(s) (1.5707963267948966, 0, 3.141592653589793) \n",
      "U gate on site(s) [2] with angle(s) (1.89, 3.141592653589793, 0) \n",
      "SX gate on site(s) [2] \n",
      "bottom heavy CNOT2 gate on site(s) [1, 2] \n",
      "U gate on site(s) [1] with angle(s) (2.82, 0, 3.141592653589793) \n",
      "U gate on site(s) [2] with angle(s) (1.89, 3.141592653589793, 0) \n",
      "bottom heavy CNOT2 gate on site(s) [1, 2]\n"
     ]
    }
   ],
   "source": [
    "gate_list = [U(0,1.34,-np.pi,0), CNOT([1,0], 2), U(1, np.pi/2,0,np.pi), U(2,1.89, np.pi, 0), SX(2), \n",
    "             CNOT([2,1], 2), U(1,2.82,0,np.pi), U(2,1.89, np.pi, 0), CNOT([2,1], 2)]\n",
    "circ = Circuit(gate_list)\n",
    "print(circ)"
   ]
  },
  {
   "cell_type": "code",
   "execution_count": 4,
   "id": "f17f59e4",
   "metadata": {
    "ExecuteTime": {
     "end_time": "2024-09-26T04:12:58.155882Z",
     "start_time": "2024-09-26T04:12:58.144251Z"
    },
    "hidden": true
   },
   "outputs": [
    {
     "data": {
      "text/plain": [
       "2"
      ]
     },
     "execution_count": 4,
     "metadata": {},
     "output_type": "execute_result"
    }
   ],
   "source": [
    "circ.local_dim"
   ]
  },
  {
   "cell_type": "code",
   "execution_count": 5,
   "id": "18b13f90",
   "metadata": {
    "ExecuteTime": {
     "end_time": "2024-09-26T04:13:06.750479Z",
     "start_time": "2024-09-26T04:13:06.745039Z"
    },
    "hidden": true
   },
   "outputs": [
    {
     "name": "stdout",
     "output_type": "stream",
     "text": [
      "U gate on site(s) [0] with angle(s) (1.34, -3.141592653589793, 0) \n",
      "U gate on site(s) [2] with angle(s) (1.89, 3.141592653589793, 0) \n",
      "\n",
      "bottom heavy CNOT2 gate on site(s) [0, 1] \n",
      "SX gate on site(s) [2] \n",
      "\n",
      "U gate on site(s) [1] with angle(s) (1.5707963267948966, 0, 3.141592653589793) \n",
      "\n",
      "bottom heavy CNOT2 gate on site(s) [1, 2] \n",
      "\n",
      "U gate on site(s) [1] with angle(s) (2.82, 0, 3.141592653589793) \n",
      "U gate on site(s) [2] with angle(s) (1.89, 3.141592653589793, 0) \n",
      "\n",
      "bottom heavy CNOT2 gate on site(s) [1, 2]\n"
     ]
    }
   ],
   "source": [
    "# construct layers without decomposing U gates\n",
    "circ.construct_layers()\n",
    "print(circ)"
   ]
  },
  {
   "cell_type": "code",
   "execution_count": 6,
   "id": "e03f7f72",
   "metadata": {
    "ExecuteTime": {
     "end_time": "2024-09-26T04:13:50.391692Z",
     "start_time": "2024-09-26T04:13:50.382265Z"
    },
    "hidden": true
   },
   "outputs": [
    {
     "name": "stdout",
     "output_type": "stream",
     "text": [
      "RZ gate on site(s) [0] with angle(s) (0,) \n",
      "RZ gate on site(s) [2] with angle(s) (0,) \n",
      "Idling on site(s) [0] for time 0.0 \n",
      "Idling on site(s) [1] for time 0.0 \n",
      "Idling on site(s) [2] for time 0.0 \n",
      "\n",
      "SX gate on site(s) [0] \n",
      "SX gate on site(s) [2] \n",
      "Idling on site(s) [0] for time 0.04 \n",
      "Idling on site(s) [1] for time 0.02 \n",
      "Idling on site(s) [2] for time 0.04 \n",
      "\n",
      "RZ gate on site(s) [0] with angle(s) (4.481592653589793,) \n",
      "RZ gate on site(s) [2] with angle(s) (5.031592653589793,) \n",
      "Idling on site(s) [0] for time 0.0 \n",
      "Idling on site(s) [1] for time 0.0 \n",
      "Idling on site(s) [2] for time 0.0 \n",
      "\n",
      "SX gate on site(s) [0] \n",
      "SX gate on site(s) [2] \n",
      "Idling on site(s) [0] for time 0.04 \n",
      "Idling on site(s) [1] for time 0.02 \n",
      "Idling on site(s) [2] for time 0.04 \n",
      "\n",
      "RZ gate on site(s) [0] with angle(s) (0.0,) \n",
      "RZ gate on site(s) [2] with angle(s) (6.283185307179586,) \n",
      "Idling on site(s) [0] for time 0.0 \n",
      "Idling on site(s) [1] for time 0.0 \n",
      "Idling on site(s) [2] for time 0.0 \n",
      "\n",
      "bottom heavy CNOT2 gate on site(s) [0, 1] \n",
      "SX gate on site(s) [2] \n",
      "Idling on site(s) [0] for time 0.5 \n",
      "Idling on site(s) [1] for time 0.5 \n",
      "Idling on site(s) [2] for time 0.25 \n",
      "\n",
      "RZ gate on site(s) [1] with angle(s) (3.141592653589793,) \n",
      "Idling on site(s) [0] for time 0.0 \n",
      "Idling on site(s) [1] for time 0.0 \n",
      "Idling on site(s) [2] for time 0.0 \n",
      "\n",
      "SX gate on site(s) [1] \n",
      "Idling on site(s) [0] for time 0.02 \n",
      "Idling on site(s) [1] for time 0.04 \n",
      "Idling on site(s) [2] for time 0.02 \n",
      "\n",
      "RZ gate on site(s) [1] with angle(s) (4.71238898038469,) \n",
      "Idling on site(s) [0] for time 0.0 \n",
      "Idling on site(s) [1] for time 0.0 \n",
      "Idling on site(s) [2] for time 0.0 \n",
      "\n",
      "SX gate on site(s) [1] \n",
      "Idling on site(s) [0] for time 0.02 \n",
      "Idling on site(s) [1] for time 0.04 \n",
      "Idling on site(s) [2] for time 0.02 \n",
      "\n",
      "RZ gate on site(s) [1] with angle(s) (3.141592653589793,) \n",
      "Idling on site(s) [0] for time 0.0 \n",
      "Idling on site(s) [1] for time 0.0 \n",
      "Idling on site(s) [2] for time 0.0 \n",
      "\n",
      "bottom heavy CNOT2 gate on site(s) [1, 2] \n",
      "Idling on site(s) [0] for time 0.25 \n",
      "Idling on site(s) [1] for time 0.5 \n",
      "Idling on site(s) [2] for time 0.5 \n",
      "\n",
      "RZ gate on site(s) [1] with angle(s) (3.141592653589793,) \n",
      "RZ gate on site(s) [2] with angle(s) (0,) \n",
      "Idling on site(s) [0] for time 0.0 \n",
      "Idling on site(s) [1] for time 0.0 \n",
      "Idling on site(s) [2] for time 0.0 \n",
      "\n",
      "SX gate on site(s) [1] \n",
      "SX gate on site(s) [2] \n",
      "Idling on site(s) [0] for time 0.02 \n",
      "Idling on site(s) [1] for time 0.04 \n",
      "Idling on site(s) [2] for time 0.04 \n",
      "\n",
      "RZ gate on site(s) [1] with angle(s) (5.961592653589793,) \n",
      "RZ gate on site(s) [2] with angle(s) (5.031592653589793,) \n",
      "Idling on site(s) [0] for time 0.0 \n",
      "Idling on site(s) [1] for time 0.0 \n",
      "Idling on site(s) [2] for time 0.0 \n",
      "\n",
      "SX gate on site(s) [1] \n",
      "SX gate on site(s) [2] \n",
      "Idling on site(s) [0] for time 0.02 \n",
      "Idling on site(s) [1] for time 0.04 \n",
      "Idling on site(s) [2] for time 0.04 \n",
      "\n",
      "RZ gate on site(s) [1] with angle(s) (3.141592653589793,) \n",
      "RZ gate on site(s) [2] with angle(s) (6.283185307179586,) \n",
      "Idling on site(s) [0] for time 0.0 \n",
      "Idling on site(s) [1] for time 0.0 \n",
      "Idling on site(s) [2] for time 0.0 \n",
      "\n",
      "bottom heavy CNOT2 gate on site(s) [1, 2] \n",
      "Idling on site(s) [0] for time 0.25 \n",
      "Idling on site(s) [1] for time 0.5 \n",
      "Idling on site(s) [2] for time 0.5\n"
     ]
    }
   ],
   "source": [
    "print(circ.build(nm))"
   ]
  },
  {
   "cell_type": "markdown",
   "id": "7e311b4f",
   "metadata": {
    "heading_collapsed": true,
    "hidden": true
   },
   "source": [
    "## Qutrits "
   ]
  },
  {
   "cell_type": "code",
   "execution_count": 5,
   "id": "62fb5708",
   "metadata": {
    "ExecuteTime": {
     "end_time": "2024-09-25T19:04:20.685381Z",
     "start_time": "2024-09-25T19:04:20.678355Z"
    },
    "hidden": true
   },
   "outputs": [],
   "source": [
    "t1 = 100\n",
    "t2 = 75\n",
    "one_time = 40/1000 \n",
    "two_time = 500/1000\n",
    "coupling = 0.5\n",
    "nm = QutritNoise(t1, t2, one_time, two_time, coupling)"
   ]
  },
  {
   "cell_type": "code",
   "execution_count": 7,
   "id": "3eb6481e",
   "metadata": {
    "ExecuteTime": {
     "end_time": "2024-09-25T19:04:40.534560Z",
     "start_time": "2024-09-25T19:04:40.522930Z"
    },
    "hidden": true
   },
   "outputs": [
    {
     "name": "stdout",
     "output_type": "stream",
     "text": [
      "U01 gate on site(s) [0] with angle(s) (1.34, -3.141592653589793, 0) \n",
      "bottom heavy CNOT3 gate on site(s) [0, 1] \n",
      "U01 gate on site(s) [1] with angle(s) (1.5707963267948966, 0, 3.141592653589793) \n",
      "U01 gate on site(s) [2] with angle(s) (1.89, 3.141592653589793, 0) \n",
      "SX01 gate on site(s) [2] \n",
      "bottom heavy CNOT3 gate on site(s) [1, 2] \n",
      "U01 gate on site(s) [1] with angle(s) (2.82, 0, 3.141592653589793) \n",
      "U01 gate on site(s) [2] with angle(s) (1.89, 3.141592653589793, 0) \n",
      "bottom heavy CNOT3 gate on site(s) [1, 2]\n"
     ]
    }
   ],
   "source": [
    "gate_list = [U01(0,1.34,-np.pi,0), CNOT3([1,0], 2), U01(1, np.pi/2,0,np.pi), U01(2,1.89, np.pi, 0), SX01(2), \n",
    "             CNOT3([2,1], 2), U01(1,2.82,0,np.pi), U01(2,1.89, np.pi, 0), CNOT3([2,1], 2)]\n",
    "circ = Circuit(gate_list)\n",
    "print(circ)"
   ]
  },
  {
   "cell_type": "code",
   "execution_count": 8,
   "id": "13c01dd6",
   "metadata": {
    "ExecuteTime": {
     "end_time": "2024-09-25T19:04:43.173921Z",
     "start_time": "2024-09-25T19:04:43.161586Z"
    },
    "hidden": true
   },
   "outputs": [
    {
     "data": {
      "text/plain": [
       "3"
      ]
     },
     "execution_count": 8,
     "metadata": {},
     "output_type": "execute_result"
    }
   ],
   "source": [
    "circ.local_dim"
   ]
  },
  {
   "cell_type": "code",
   "execution_count": 9,
   "id": "3dace1c4",
   "metadata": {
    "ExecuteTime": {
     "end_time": "2024-09-25T19:04:45.882237Z",
     "start_time": "2024-09-25T19:04:45.875713Z"
    },
    "hidden": true
   },
   "outputs": [
    {
     "name": "stdout",
     "output_type": "stream",
     "text": [
      "U01 gate on site(s) [0] with angle(s) (1.34, -3.141592653589793, 0) \n",
      "U01 gate on site(s) [2] with angle(s) (1.89, 3.141592653589793, 0) \n",
      "\n",
      "bottom heavy CNOT3 gate on site(s) [0, 1] \n",
      "SX01 gate on site(s) [2] \n",
      "\n",
      "U01 gate on site(s) [1] with angle(s) (1.5707963267948966, 0, 3.141592653589793) \n",
      "\n",
      "bottom heavy CNOT3 gate on site(s) [1, 2] \n",
      "\n",
      "U01 gate on site(s) [1] with angle(s) (2.82, 0, 3.141592653589793) \n",
      "U01 gate on site(s) [2] with angle(s) (1.89, 3.141592653589793, 0) \n",
      "\n",
      "bottom heavy CNOT3 gate on site(s) [1, 2]\n"
     ]
    }
   ],
   "source": [
    "# construct layers without decomposing U gates\n",
    "circ.construct_layers()\n",
    "print(circ)"
   ]
  },
  {
   "cell_type": "code",
   "execution_count": 10,
   "id": "ba95f5ed",
   "metadata": {
    "ExecuteTime": {
     "end_time": "2024-09-25T19:04:47.685919Z",
     "start_time": "2024-09-25T19:04:47.676593Z"
    },
    "hidden": true
   },
   "outputs": [
    {
     "name": "stdout",
     "output_type": "stream",
     "text": [
      "U01 gate on site(s) [0] with angle(s) (1.34, -3.141592653589793, 0) \n",
      "U01 gate on site(s) [2] with angle(s) (1.89, 3.141592653589793, 0) \n",
      "\n",
      "bottom heavy CNOT3 gate on site(s) [0, 1] \n",
      "SX01 gate on site(s) [2] \n",
      "\n",
      "U01 gate on site(s) [1] with angle(s) (1.5707963267948966, 0, 3.141592653589793) \n",
      "\n",
      "bottom heavy CNOT3 gate on site(s) [1, 2] \n",
      "\n",
      "U01 gate on site(s) [1] with angle(s) (2.82, 0, 3.141592653589793) \n",
      "U01 gate on site(s) [2] with angle(s) (1.89, 3.141592653589793, 0) \n",
      "\n",
      "bottom heavy CNOT3 gate on site(s) [1, 2]\n"
     ]
    }
   ],
   "source": [
    "# circuit after decomposing U and adding noise\n",
    "print(circ.build(nm))"
   ]
  },
  {
   "cell_type": "markdown",
   "id": "2e866810",
   "metadata": {
    "heading_collapsed": true
   },
   "source": [
    "# Testing nt_sim.py "
   ]
  },
  {
   "cell_type": "code",
   "execution_count": 5,
   "id": "319421ea",
   "metadata": {
    "ExecuteTime": {
     "end_time": "2024-09-25T19:15:35.013570Z",
     "start_time": "2024-09-25T19:15:34.988653Z"
    },
    "hidden": true
   },
   "outputs": [
    {
     "data": {
      "application/json": {
       "ascii": false,
       "bar_format": null,
       "colour": null,
       "elapsed": 0.009955883026123047,
       "initial": 0,
       "n": 0,
       "ncols": null,
       "nrows": 24,
       "postfix": null,
       "prefix": "",
       "rate": null,
       "total": 6,
       "unit": "it",
       "unit_divisor": 1000,
       "unit_scale": false
      },
      "application/vnd.jupyter.widget-view+json": {
       "model_id": "23966b9a511946eea073c9bc935d5f3f",
       "version_major": 2,
       "version_minor": 0
      },
      "text/plain": [
       "  0%|          | 0/6 [00:00<?, ?it/s]"
      ]
     },
     "metadata": {},
     "output_type": "display_data"
    },
    {
     "name": "stdout",
     "output_type": "stream",
     "text": [
      "1.0000 * (1.0000+0.0000j|000⟩)\n",
      "[(1, 1, 2, 2), (1, 1, 2, 2), (1, 1, 2, 2)]\n",
      "\n",
      "1.0000 * (-0.7071+0.0000j|000⟩ + 0.0000+0.7071j|100⟩)\n",
      "[(1, 1, 2, 2), (1, 1, 2, 2), (1, 1, 2, 2)]\n",
      "\n",
      "1.0000 * (0.7071+0.0000j|000⟩ + -0.3390+0.6205j|100⟩)\n",
      "[(1, 1, 2, 2), (1, 1, 2, 2), (1, 1, 2, 2)]\n",
      "\n",
      "1.0000 * (0.9689+0.0000j|000⟩ + -0.2474-0.0000j|100⟩)\n",
      "[(1, 1, 2, 2), (1, 1, 2, 2), (1, 1, 2, 2)]\n",
      "\n",
      "1.0000 * (0.9689+0.0000j|000⟩ + -0.0175-0.2468j|100⟩)\n",
      "[(1, 1, 2, 2), (1, 1, 2, 2), (1, 1, 2, 2)]\n",
      "\n",
      "1.0000 * (-0.9689+0.0000j|000⟩ + 0.0175+0.2468j|101⟩)\n",
      "[(4, 1, 2, 2), (1, 1, 2, 2), (1, 4, 2, 2)]\n",
      "\n"
     ]
    }
   ],
   "source": [
    "gate_a = U(0,0.5,0,1.5)\n",
    "gate_b = CNOT([2,0], 3)\n",
    "circ = Circuit([gate_a, gate_b])\n",
    "\n",
    "mpdo = nt_sim(circ, dm=True, debug=True)"
   ]
  },
  {
   "cell_type": "code",
   "execution_count": 4,
   "id": "b9dee6b1",
   "metadata": {
    "ExecuteTime": {
     "end_time": "2024-09-25T19:15:12.518257Z",
     "start_time": "2024-09-25T19:15:12.489272Z"
    },
    "hidden": true
   },
   "outputs": [
    {
     "data": {
      "application/json": {
       "ascii": false,
       "bar_format": null,
       "colour": null,
       "elapsed": 0.009402751922607422,
       "initial": 0,
       "n": 0,
       "ncols": null,
       "nrows": 24,
       "postfix": null,
       "prefix": "",
       "rate": null,
       "total": 6,
       "unit": "it",
       "unit_divisor": 1000,
       "unit_scale": false
      },
      "application/vnd.jupyter.widget-view+json": {
       "model_id": "4aff5582fb754bfd90a5ad85eaa46262",
       "version_major": 2,
       "version_minor": 0
      },
      "text/plain": [
       "  0%|          | 0/6 [00:00<?, ?it/s]"
      ]
     },
     "metadata": {},
     "output_type": "display_data"
    },
    {
     "name": "stdout",
     "output_type": "stream",
     "text": [
      "1.0000 * (1.0000+0.0000j|000⟩)\n",
      "[(1, 1, 3, 3), (1, 1, 3, 3), (1, 1, 3, 3)]\n",
      "\n",
      "1.0000 * (-0.7071+0.0000j|000⟩ + 0.0000+0.7071j|100⟩)\n",
      "[(1, 1, 3, 3), (1, 1, 3, 3), (1, 1, 3, 3)]\n",
      "\n",
      "1.0000 * (0.7071+0.0000j|000⟩ + -0.3390+0.6205j|100⟩)\n",
      "[(1, 1, 3, 3), (1, 1, 3, 3), (1, 1, 3, 3)]\n",
      "\n",
      "1.0000 * (0.9689+0.0000j|000⟩ + -0.2474-0.0000j|100⟩)\n",
      "[(1, 1, 3, 3), (1, 1, 3, 3), (1, 1, 3, 3)]\n",
      "\n",
      "1.0000 * (0.9689+0.0000j|000⟩ + -0.0175-0.2468j|100⟩)\n",
      "[(1, 1, 3, 3), (1, 1, 3, 3), (1, 1, 3, 3)]\n",
      "\n",
      "1.0000 * (-0.9689+0.0000j|000⟩ + 0.0175+0.2468j|101⟩)\n",
      "[(9, 1, 3, 3), (1, 1, 3, 3), (1, 9, 3, 3)]\n",
      "\n"
     ]
    }
   ],
   "source": [
    "gate_a = U01(0,0.5,0,1.5)\n",
    "gate_b = CNOT3([2,0], 3)\n",
    "circ = Circuit([gate_a, gate_b])\n",
    "\n",
    "mpdo = nt_sim(circ, dm=True, debug=True)"
   ]
  },
  {
   "cell_type": "code",
   "execution_count": 3,
   "id": "427bcade",
   "metadata": {
    "ExecuteTime": {
     "end_time": "2024-11-01T20:20:13.466914Z",
     "start_time": "2024-11-01T20:20:13.440001Z"
    },
    "hidden": true
   },
   "outputs": [
    {
     "name": "stdout",
     "output_type": "stream",
     "text": [
      "bottom heavy CU2 gate on site(s) [0 1 2]\n",
      "1.0000 * (1.0000|100⟩)\n",
      "[(1, 1, 2, 2), (1, 1, 2, 2), (1, 1, 2, 2)]\n",
      "\n",
      "1.0000 * (1.0000|110⟩)\n",
      "[(1, 1, 2, 2), (1, 1, 2, 2), (1, 1, 2, 2)]\n",
      "\n",
      "1.0000 * (1.0000|111⟩)\n",
      "[(1, 4, 2, 2), (4, 4, 2, 2), (4, 1, 2, 2)]\n",
      "\n"
     ]
    }
   ],
   "source": [
    "# Test the action of a CCX gate \n",
    "ccx = CUGate([1,2,0], CNOT([2,1],4), 4)\n",
    "print(ccx)\n",
    "\n",
    "gate_a = X(0)\n",
    "gate_b = X(1)\n",
    "gate_c = ccx\n",
    "circ = Circuit([gate_a, gate_b, ccx])\n",
    "\n",
    "mpdo = nt_sim(circ, dm=True, debug=True)"
   ]
  },
  {
   "cell_type": "code",
   "execution_count": 6,
   "id": "a791cafd",
   "metadata": {
    "ExecuteTime": {
     "end_time": "2024-11-01T20:20:54.725902Z",
     "start_time": "2024-11-01T20:20:54.717959Z"
    },
    "hidden": true
   },
   "outputs": [
    {
     "data": {
      "text/plain": [
       "(8, 8)"
      ]
     },
     "execution_count": 6,
     "metadata": {},
     "output_type": "execute_result"
    }
   ],
   "source": [
    "ccx.matrix.shape "
   ]
  },
  {
   "cell_type": "code",
   "execution_count": 3,
   "id": "664107cc",
   "metadata": {
    "ExecuteTime": {
     "end_time": "2024-12-20T02:13:54.355032Z",
     "start_time": "2024-12-20T02:13:53.772039Z"
    },
    "hidden": true
   },
   "outputs": [
    {
     "name": "stdout",
     "output_type": "stream",
     "text": [
      "0.7071+0.0000j|0000⟩ + 0.7071+0.0000j|1111⟩\n",
      "1.0000 * (0.7071+0.0000j|0000⟩ + 0.7071+0.0000j|1111⟩)\n"
     ]
    }
   ],
   "source": [
    "# test four_local()\n",
    "\n",
    "circ = Circuit([H01(0), CNOT3([1,0], 4), CNOT3([2,1], 4), CNOT3([3,2], 4)], 4)\n",
    "pretty_print_sv(circ.to_matrix() @ string_to_sv('0000', 3), 3) \n",
    "\n",
    "g = Gate(\"four-local\", [0,1,2,3], circ.to_matrix())\n",
    "new_circ = Circuit([g], 4)\n",
    "pretty_print_dm(nt_sim(new_circ, dm=True), 3) "
   ]
  },
  {
   "cell_type": "code",
   "execution_count": null,
   "id": "c502a507",
   "metadata": {
    "hidden": true
   },
   "outputs": [],
   "source": []
  },
  {
   "cell_type": "markdown",
   "id": "1e185c36",
   "metadata": {
    "heading_collapsed": true
   },
   "source": [
    "# Testing utils.py"
   ]
  },
  {
   "cell_type": "code",
   "execution_count": 19,
   "id": "5d13e704",
   "metadata": {
    "ExecuteTime": {
     "end_time": "2024-09-16T20:17:26.253618Z",
     "start_time": "2024-09-16T20:17:26.248142Z"
    },
    "hidden": true
   },
   "outputs": [],
   "source": [
    "rho1 = rand_dm(4)\n",
    "rho2 = rand_dm(4)"
   ]
  },
  {
   "cell_type": "code",
   "execution_count": 20,
   "id": "3e88054e",
   "metadata": {
    "ExecuteTime": {
     "end_time": "2024-09-16T20:17:32.146902Z",
     "start_time": "2024-09-16T20:17:32.138379Z"
    },
    "hidden": true
   },
   "outputs": [
    {
     "data": {
      "text/plain": [
       "(0.3635584285840525+0j)"
      ]
     },
     "execution_count": 20,
     "metadata": {},
     "output_type": "execute_result"
    }
   ],
   "source": [
    "1-np.trace(rho1@rho1)"
   ]
  },
  {
   "cell_type": "code",
   "execution_count": 21,
   "id": "c0dcb0be",
   "metadata": {
    "ExecuteTime": {
     "end_time": "2024-09-16T20:17:38.758801Z",
     "start_time": "2024-09-16T20:17:38.748548Z"
    },
    "hidden": true
   },
   "outputs": [
    {
     "data": {
      "text/plain": [
       "0.8622027287979752"
      ]
     },
     "execution_count": 21,
     "metadata": {},
     "output_type": "execute_result"
    }
   ],
   "source": [
    "fidelity(rho1, rho2)"
   ]
  },
  {
   "cell_type": "code",
   "execution_count": 22,
   "id": "693f9bc6",
   "metadata": {
    "ExecuteTime": {
     "end_time": "2024-09-16T20:17:48.820640Z",
     "start_time": "2024-09-16T20:17:48.811522Z"
    },
    "hidden": true
   },
   "outputs": [
    {
     "data": {
      "text/plain": [
       "0.5842163416931787"
      ]
     },
     "execution_count": 22,
     "metadata": {},
     "output_type": "execute_result"
    }
   ],
   "source": [
    "two_norm_fidelity(rho1, rho2)"
   ]
  },
  {
   "cell_type": "code",
   "execution_count": null,
   "id": "92d9e47c",
   "metadata": {
    "hidden": true
   },
   "outputs": [],
   "source": []
  }
 ],
 "metadata": {
  "kernelspec": {
   "display_name": "Python 3 (ipykernel)",
   "language": "python",
   "name": "python3"
  },
  "language_info": {
   "codemirror_mode": {
    "name": "ipython",
    "version": 3
   },
   "file_extension": ".py",
   "mimetype": "text/x-python",
   "name": "python",
   "nbconvert_exporter": "python",
   "pygments_lexer": "ipython3",
   "version": "3.8.19"
  }
 },
 "nbformat": 4,
 "nbformat_minor": 5
}
